{
  "nbformat": 4,
  "nbformat_minor": 0,
  "metadata": {
    "colab": {
      "name": "Concurrency_with_Python.ipynb",
      "provenance": []
    },
    "kernelspec": {
      "name": "python3",
      "display_name": "Python 3"
    },
    "language_info": {
      "name": "python"
    }
  },
  "cells": [
    {
      "cell_type": "markdown",
      "metadata": {
        "id": "jWatNvy09RUv"
      },
      "source": [
        "This notebook explores concurrency in Python 3.8, following the tutorial at https://realpython.com/python-concurrency/\n",
        "\n",
        "Warning: Jupyter Notebook and especially Google Colab are not the best places to test concurrency. Crashes and unexpected behavious can occur."
      ]
    },
    {
      "cell_type": "markdown",
      "metadata": {
        "id": "nwc2vdFW9kn3"
      },
      "source": [
        "#I/O Bound Concurrency"
      ]
    },
    {
      "cell_type": "markdown",
      "metadata": {
        "id": "Tta38ohQ9onQ"
      },
      "source": [
        "When the program spends most of the time waiting for an I/O operation, like accessing data from Hard Disk, Internet etc."
      ]
    },
    {
      "cell_type": "markdown",
      "metadata": {
        "id": "AGFhtGRL4tiq"
      },
      "source": [
        "##Synchronous Version - without any deliberate concurrency"
      ]
    },
    {
      "cell_type": "markdown",
      "metadata": {
        "id": "5gjt1hIm5xkj"
      },
      "source": [
        "The following piece of code downloads some web pages repeatedly. The session object is used to maintain HTTP persistent connections and speed up the operation.\n",
        "\n",
        "`download_site` collects the response from a particular URL.\n",
        "\n",
        "`download_all_sites` runs the previous function on a list of URLs."
      ]
    },
    {
      "cell_type": "code",
      "metadata": {
        "colab": {
          "base_uri": "https://localhost:8080/"
        },
        "id": "vmYQT0pZ4sJ3",
        "outputId": "e53337cf-45ca-4ec2-dacc-353fd8f6d483"
      },
      "source": [
        "import requests\n",
        "import time\n",
        "\n",
        "def download_site(url, session):\n",
        "    with session.get(url) as response:\n",
        "        print(f\"Read {len(response.content)} bytes from {url}\")\n",
        "\n",
        "\n",
        "def download_all_sites(urls):\n",
        "    with requests.Session() as session:\n",
        "        for url in urls:\n",
        "            download_site(url, session)\n",
        "\n",
        "\n",
        "if __name__ == \"__main__\":\n",
        "    urls = [\n",
        "        \"https://www.linkedin.com/in/sagnik-biswas-7740981b6/\",\n",
        "        \"https://github.com/sagnikbiswas\"\n",
        "    ] * 100\n",
        "    start_time = time.time()\n",
        "    download_all_sites(urls)\n",
        "    time_took = time.time() - start_time\n",
        "    print(f\"Downloaded {len(urls)} pages in {time_took} seconds\")"
      ],
      "execution_count": 1,
      "outputs": [
        {
          "output_type": "stream",
          "name": "stdout",
          "text": [
            "Read 1529 bytes from https://www.linkedin.com/in/sagnik-biswas-7740981b6/\n",
            "Read 1474 bytes from https://github.com/sagnikbiswas\n",
            "Read 1529 bytes from https://www.linkedin.com/in/sagnik-biswas-7740981b6/\n",
            "Read 1474 bytes from https://github.com/sagnikbiswas\n",
            "Read 1529 bytes from https://www.linkedin.com/in/sagnik-biswas-7740981b6/\n",
            "Read 1474 bytes from https://github.com/sagnikbiswas\n",
            "Read 1529 bytes from https://www.linkedin.com/in/sagnik-biswas-7740981b6/\n",
            "Read 1474 bytes from https://github.com/sagnikbiswas\n",
            "Read 1529 bytes from https://www.linkedin.com/in/sagnik-biswas-7740981b6/\n",
            "Read 1474 bytes from https://github.com/sagnikbiswas\n",
            "Read 1529 bytes from https://www.linkedin.com/in/sagnik-biswas-7740981b6/\n",
            "Read 1474 bytes from https://github.com/sagnikbiswas\n",
            "Read 1529 bytes from https://www.linkedin.com/in/sagnik-biswas-7740981b6/\n",
            "Read 1474 bytes from https://github.com/sagnikbiswas\n",
            "Read 1529 bytes from https://www.linkedin.com/in/sagnik-biswas-7740981b6/\n",
            "Read 1474 bytes from https://github.com/sagnikbiswas\n",
            "Read 1529 bytes from https://www.linkedin.com/in/sagnik-biswas-7740981b6/\n",
            "Read 1474 bytes from https://github.com/sagnikbiswas\n",
            "Read 1529 bytes from https://www.linkedin.com/in/sagnik-biswas-7740981b6/\n",
            "Read 1474 bytes from https://github.com/sagnikbiswas\n",
            "Read 1529 bytes from https://www.linkedin.com/in/sagnik-biswas-7740981b6/\n",
            "Read 1474 bytes from https://github.com/sagnikbiswas\n",
            "Read 1529 bytes from https://www.linkedin.com/in/sagnik-biswas-7740981b6/\n",
            "Read 1474 bytes from https://github.com/sagnikbiswas\n",
            "Read 1529 bytes from https://www.linkedin.com/in/sagnik-biswas-7740981b6/\n",
            "Read 1474 bytes from https://github.com/sagnikbiswas\n",
            "Read 1529 bytes from https://www.linkedin.com/in/sagnik-biswas-7740981b6/\n",
            "Read 1474 bytes from https://github.com/sagnikbiswas\n",
            "Read 1529 bytes from https://www.linkedin.com/in/sagnik-biswas-7740981b6/\n",
            "Read 1474 bytes from https://github.com/sagnikbiswas\n",
            "Read 1529 bytes from https://www.linkedin.com/in/sagnik-biswas-7740981b6/\n",
            "Read 1474 bytes from https://github.com/sagnikbiswas\n",
            "Read 1529 bytes from https://www.linkedin.com/in/sagnik-biswas-7740981b6/\n",
            "Read 1474 bytes from https://github.com/sagnikbiswas\n",
            "Read 1529 bytes from https://www.linkedin.com/in/sagnik-biswas-7740981b6/\n",
            "Read 1474 bytes from https://github.com/sagnikbiswas\n",
            "Read 1529 bytes from https://www.linkedin.com/in/sagnik-biswas-7740981b6/\n",
            "Read 1474 bytes from https://github.com/sagnikbiswas\n",
            "Read 1529 bytes from https://www.linkedin.com/in/sagnik-biswas-7740981b6/\n",
            "Read 1474 bytes from https://github.com/sagnikbiswas\n",
            "Read 1529 bytes from https://www.linkedin.com/in/sagnik-biswas-7740981b6/\n",
            "Read 1474 bytes from https://github.com/sagnikbiswas\n",
            "Read 1529 bytes from https://www.linkedin.com/in/sagnik-biswas-7740981b6/\n",
            "Read 1474 bytes from https://github.com/sagnikbiswas\n",
            "Read 1529 bytes from https://www.linkedin.com/in/sagnik-biswas-7740981b6/\n",
            "Read 1474 bytes from https://github.com/sagnikbiswas\n",
            "Read 1529 bytes from https://www.linkedin.com/in/sagnik-biswas-7740981b6/\n",
            "Read 1474 bytes from https://github.com/sagnikbiswas\n",
            "Read 1529 bytes from https://www.linkedin.com/in/sagnik-biswas-7740981b6/\n",
            "Read 1474 bytes from https://github.com/sagnikbiswas\n",
            "Read 1529 bytes from https://www.linkedin.com/in/sagnik-biswas-7740981b6/\n",
            "Read 1474 bytes from https://github.com/sagnikbiswas\n",
            "Read 1529 bytes from https://www.linkedin.com/in/sagnik-biswas-7740981b6/\n",
            "Read 1474 bytes from https://github.com/sagnikbiswas\n",
            "Read 1529 bytes from https://www.linkedin.com/in/sagnik-biswas-7740981b6/\n",
            "Read 1474 bytes from https://github.com/sagnikbiswas\n",
            "Read 1529 bytes from https://www.linkedin.com/in/sagnik-biswas-7740981b6/\n",
            "Read 1474 bytes from https://github.com/sagnikbiswas\n",
            "Read 1529 bytes from https://www.linkedin.com/in/sagnik-biswas-7740981b6/\n",
            "Read 1474 bytes from https://github.com/sagnikbiswas\n",
            "Read 1529 bytes from https://www.linkedin.com/in/sagnik-biswas-7740981b6/\n",
            "Read 1474 bytes from https://github.com/sagnikbiswas\n",
            "Read 1529 bytes from https://www.linkedin.com/in/sagnik-biswas-7740981b6/\n",
            "Read 1474 bytes from https://github.com/sagnikbiswas\n",
            "Read 1529 bytes from https://www.linkedin.com/in/sagnik-biswas-7740981b6/\n",
            "Read 1474 bytes from https://github.com/sagnikbiswas\n",
            "Read 1529 bytes from https://www.linkedin.com/in/sagnik-biswas-7740981b6/\n",
            "Read 1474 bytes from https://github.com/sagnikbiswas\n",
            "Read 1529 bytes from https://www.linkedin.com/in/sagnik-biswas-7740981b6/\n",
            "Read 1474 bytes from https://github.com/sagnikbiswas\n",
            "Read 1529 bytes from https://www.linkedin.com/in/sagnik-biswas-7740981b6/\n",
            "Read 1474 bytes from https://github.com/sagnikbiswas\n",
            "Read 1529 bytes from https://www.linkedin.com/in/sagnik-biswas-7740981b6/\n",
            "Read 1474 bytes from https://github.com/sagnikbiswas\n",
            "Read 1529 bytes from https://www.linkedin.com/in/sagnik-biswas-7740981b6/\n",
            "Read 1474 bytes from https://github.com/sagnikbiswas\n",
            "Read 1529 bytes from https://www.linkedin.com/in/sagnik-biswas-7740981b6/\n",
            "Read 1474 bytes from https://github.com/sagnikbiswas\n",
            "Read 1529 bytes from https://www.linkedin.com/in/sagnik-biswas-7740981b6/\n",
            "Read 1474 bytes from https://github.com/sagnikbiswas\n",
            "Read 1529 bytes from https://www.linkedin.com/in/sagnik-biswas-7740981b6/\n",
            "Read 1474 bytes from https://github.com/sagnikbiswas\n",
            "Read 1529 bytes from https://www.linkedin.com/in/sagnik-biswas-7740981b6/\n",
            "Read 1474 bytes from https://github.com/sagnikbiswas\n",
            "Read 1529 bytes from https://www.linkedin.com/in/sagnik-biswas-7740981b6/\n",
            "Read 1474 bytes from https://github.com/sagnikbiswas\n",
            "Read 1529 bytes from https://www.linkedin.com/in/sagnik-biswas-7740981b6/\n",
            "Read 1474 bytes from https://github.com/sagnikbiswas\n",
            "Read 1529 bytes from https://www.linkedin.com/in/sagnik-biswas-7740981b6/\n",
            "Read 1474 bytes from https://github.com/sagnikbiswas\n",
            "Read 1529 bytes from https://www.linkedin.com/in/sagnik-biswas-7740981b6/\n",
            "Read 1474 bytes from https://github.com/sagnikbiswas\n",
            "Read 1529 bytes from https://www.linkedin.com/in/sagnik-biswas-7740981b6/\n",
            "Read 1474 bytes from https://github.com/sagnikbiswas\n",
            "Read 1529 bytes from https://www.linkedin.com/in/sagnik-biswas-7740981b6/\n",
            "Read 1474 bytes from https://github.com/sagnikbiswas\n",
            "Read 1529 bytes from https://www.linkedin.com/in/sagnik-biswas-7740981b6/\n",
            "Read 1474 bytes from https://github.com/sagnikbiswas\n",
            "Read 1529 bytes from https://www.linkedin.com/in/sagnik-biswas-7740981b6/\n",
            "Read 1474 bytes from https://github.com/sagnikbiswas\n",
            "Read 1529 bytes from https://www.linkedin.com/in/sagnik-biswas-7740981b6/\n",
            "Read 1474 bytes from https://github.com/sagnikbiswas\n",
            "Read 1529 bytes from https://www.linkedin.com/in/sagnik-biswas-7740981b6/\n",
            "Read 1474 bytes from https://github.com/sagnikbiswas\n",
            "Read 1529 bytes from https://www.linkedin.com/in/sagnik-biswas-7740981b6/\n",
            "Read 1474 bytes from https://github.com/sagnikbiswas\n",
            "Read 1529 bytes from https://www.linkedin.com/in/sagnik-biswas-7740981b6/\n",
            "Read 1474 bytes from https://github.com/sagnikbiswas\n",
            "Read 1529 bytes from https://www.linkedin.com/in/sagnik-biswas-7740981b6/\n",
            "Read 1474 bytes from https://github.com/sagnikbiswas\n",
            "Read 1529 bytes from https://www.linkedin.com/in/sagnik-biswas-7740981b6/\n",
            "Read 1474 bytes from https://github.com/sagnikbiswas\n",
            "Read 1529 bytes from https://www.linkedin.com/in/sagnik-biswas-7740981b6/\n",
            "Read 1474 bytes from https://github.com/sagnikbiswas\n",
            "Read 1529 bytes from https://www.linkedin.com/in/sagnik-biswas-7740981b6/\n",
            "Read 1474 bytes from https://github.com/sagnikbiswas\n",
            "Read 1529 bytes from https://www.linkedin.com/in/sagnik-biswas-7740981b6/\n",
            "Read 1474 bytes from https://github.com/sagnikbiswas\n",
            "Read 1529 bytes from https://www.linkedin.com/in/sagnik-biswas-7740981b6/\n",
            "Read 1474 bytes from https://github.com/sagnikbiswas\n",
            "Read 1529 bytes from https://www.linkedin.com/in/sagnik-biswas-7740981b6/\n",
            "Read 1474 bytes from https://github.com/sagnikbiswas\n",
            "Read 1529 bytes from https://www.linkedin.com/in/sagnik-biswas-7740981b6/\n",
            "Read 1474 bytes from https://github.com/sagnikbiswas\n",
            "Read 1529 bytes from https://www.linkedin.com/in/sagnik-biswas-7740981b6/\n",
            "Read 1474 bytes from https://github.com/sagnikbiswas\n",
            "Read 1529 bytes from https://www.linkedin.com/in/sagnik-biswas-7740981b6/\n",
            "Read 1474 bytes from https://github.com/sagnikbiswas\n",
            "Read 1529 bytes from https://www.linkedin.com/in/sagnik-biswas-7740981b6/\n",
            "Read 1474 bytes from https://github.com/sagnikbiswas\n",
            "Read 1529 bytes from https://www.linkedin.com/in/sagnik-biswas-7740981b6/\n",
            "Read 1474 bytes from https://github.com/sagnikbiswas\n",
            "Read 1529 bytes from https://www.linkedin.com/in/sagnik-biswas-7740981b6/\n",
            "Read 1474 bytes from https://github.com/sagnikbiswas\n",
            "Read 1529 bytes from https://www.linkedin.com/in/sagnik-biswas-7740981b6/\n",
            "Read 1474 bytes from https://github.com/sagnikbiswas\n",
            "Read 1529 bytes from https://www.linkedin.com/in/sagnik-biswas-7740981b6/\n",
            "Read 1474 bytes from https://github.com/sagnikbiswas\n",
            "Read 1529 bytes from https://www.linkedin.com/in/sagnik-biswas-7740981b6/\n",
            "Read 1474 bytes from https://github.com/sagnikbiswas\n",
            "Read 1529 bytes from https://www.linkedin.com/in/sagnik-biswas-7740981b6/\n",
            "Read 1474 bytes from https://github.com/sagnikbiswas\n",
            "Read 1529 bytes from https://www.linkedin.com/in/sagnik-biswas-7740981b6/\n",
            "Read 1474 bytes from https://github.com/sagnikbiswas\n",
            "Read 1529 bytes from https://www.linkedin.com/in/sagnik-biswas-7740981b6/\n",
            "Read 1474 bytes from https://github.com/sagnikbiswas\n",
            "Read 1529 bytes from https://www.linkedin.com/in/sagnik-biswas-7740981b6/\n",
            "Read 1474 bytes from https://github.com/sagnikbiswas\n",
            "Read 1529 bytes from https://www.linkedin.com/in/sagnik-biswas-7740981b6/\n",
            "Read 1474 bytes from https://github.com/sagnikbiswas\n",
            "Read 1529 bytes from https://www.linkedin.com/in/sagnik-biswas-7740981b6/\n",
            "Read 1474 bytes from https://github.com/sagnikbiswas\n",
            "Read 1529 bytes from https://www.linkedin.com/in/sagnik-biswas-7740981b6/\n",
            "Read 1474 bytes from https://github.com/sagnikbiswas\n",
            "Read 1529 bytes from https://www.linkedin.com/in/sagnik-biswas-7740981b6/\n",
            "Read 1474 bytes from https://github.com/sagnikbiswas\n",
            "Read 1529 bytes from https://www.linkedin.com/in/sagnik-biswas-7740981b6/\n",
            "Read 1474 bytes from https://github.com/sagnikbiswas\n",
            "Read 1529 bytes from https://www.linkedin.com/in/sagnik-biswas-7740981b6/\n",
            "Read 1474 bytes from https://github.com/sagnikbiswas\n",
            "Read 1529 bytes from https://www.linkedin.com/in/sagnik-biswas-7740981b6/\n",
            "Read 1474 bytes from https://github.com/sagnikbiswas\n",
            "Read 1529 bytes from https://www.linkedin.com/in/sagnik-biswas-7740981b6/\n",
            "Read 1474 bytes from https://github.com/sagnikbiswas\n",
            "Read 1529 bytes from https://www.linkedin.com/in/sagnik-biswas-7740981b6/\n",
            "Read 1474 bytes from https://github.com/sagnikbiswas\n",
            "Read 1529 bytes from https://www.linkedin.com/in/sagnik-biswas-7740981b6/\n",
            "Read 1474 bytes from https://github.com/sagnikbiswas\n",
            "Read 1529 bytes from https://www.linkedin.com/in/sagnik-biswas-7740981b6/\n",
            "Read 1474 bytes from https://github.com/sagnikbiswas\n",
            "Read 1529 bytes from https://www.linkedin.com/in/sagnik-biswas-7740981b6/\n",
            "Read 1474 bytes from https://github.com/sagnikbiswas\n",
            "Read 1529 bytes from https://www.linkedin.com/in/sagnik-biswas-7740981b6/\n",
            "Read 1474 bytes from https://github.com/sagnikbiswas\n",
            "Read 1529 bytes from https://www.linkedin.com/in/sagnik-biswas-7740981b6/\n",
            "Read 1474 bytes from https://github.com/sagnikbiswas\n",
            "Read 1529 bytes from https://www.linkedin.com/in/sagnik-biswas-7740981b6/\n",
            "Read 1474 bytes from https://github.com/sagnikbiswas\n",
            "Read 1529 bytes from https://www.linkedin.com/in/sagnik-biswas-7740981b6/\n",
            "Read 1474 bytes from https://github.com/sagnikbiswas\n",
            "Read 1529 bytes from https://www.linkedin.com/in/sagnik-biswas-7740981b6/\n",
            "Read 1474 bytes from https://github.com/sagnikbiswas\n",
            "Read 1529 bytes from https://www.linkedin.com/in/sagnik-biswas-7740981b6/\n",
            "Read 1474 bytes from https://github.com/sagnikbiswas\n",
            "Read 1529 bytes from https://www.linkedin.com/in/sagnik-biswas-7740981b6/\n",
            "Read 1474 bytes from https://github.com/sagnikbiswas\n",
            "Read 1529 bytes from https://www.linkedin.com/in/sagnik-biswas-7740981b6/\n",
            "Read 1474 bytes from https://github.com/sagnikbiswas\n",
            "Read 1529 bytes from https://www.linkedin.com/in/sagnik-biswas-7740981b6/\n",
            "Read 1474 bytes from https://github.com/sagnikbiswas\n",
            "Read 1529 bytes from https://www.linkedin.com/in/sagnik-biswas-7740981b6/\n",
            "Read 1474 bytes from https://github.com/sagnikbiswas\n",
            "Read 1529 bytes from https://www.linkedin.com/in/sagnik-biswas-7740981b6/\n",
            "Read 1474 bytes from https://github.com/sagnikbiswas\n",
            "Read 1529 bytes from https://www.linkedin.com/in/sagnik-biswas-7740981b6/\n",
            "Read 1474 bytes from https://github.com/sagnikbiswas\n",
            "Read 1529 bytes from https://www.linkedin.com/in/sagnik-biswas-7740981b6/\n",
            "Read 1474 bytes from https://github.com/sagnikbiswas\n",
            "Read 1529 bytes from https://www.linkedin.com/in/sagnik-biswas-7740981b6/\n",
            "Read 1474 bytes from https://github.com/sagnikbiswas\n",
            "Downloaded 200 pages in 8.033767938613892 seconds\n"
          ]
        }
      ]
    },
    {
      "cell_type": "markdown",
      "metadata": {
        "id": "AKvumVgh69OP"
      },
      "source": [
        "##Threading Version"
      ]
    },
    {
      "cell_type": "markdown",
      "metadata": {
        "id": "qLOr7WS6FdiZ"
      },
      "source": [
        "With `threading`, we can run multiple threads concurrently in a single process, and thus utilize the time we would otherwise waste on waiting for a response.\n",
        "\n",
        "`ThreadPoolExecutor` creates and maintains a pool of threads defined by `max_workers` parameter. The `.map` method runs the passed function on the iterable concurrently.\n",
        "\n",
        "`requests.Session` is not thread safe, so each thread need to acquire its own session object. \n",
        "\n",
        "`threading.local()` separates access of different resources to different threads, though we only call it once.\n",
        "\n",
        "As we increase number of threads in `max_workers` we may see speedup upto a point, after which the overhead of creating new threads outweigh the benefit of concurrency."
      ]
    },
    {
      "cell_type": "code",
      "metadata": {
        "colab": {
          "base_uri": "https://localhost:8080/"
        },
        "id": "PVFRjxN65MvH",
        "outputId": "c401c533-62f8-428b-db59-2e064d14a6bb"
      },
      "source": [
        "import concurrent.futures\n",
        "import threading\n",
        "\n",
        "\n",
        "thread_local = threading.local()\n",
        "\n",
        "\n",
        "def get_session():\n",
        "    if not hasattr(thread_local, \"session\"):\n",
        "        thread_local.session = requests.Session()\n",
        "    return thread_local.session\n",
        "\n",
        "\n",
        "def download_site(url):\n",
        "    session = get_session()\n",
        "    with session.get(url) as response:\n",
        "        print(f\"Read {len(response.content)} bytes from {url}\")\n",
        "\n",
        "\n",
        "def download_all_sites(urls):\n",
        "    with concurrent.futures.ThreadPoolExecutor(max_workers=20) as executor:\n",
        "        executor.map(download_site, urls)\n",
        "\n",
        "\n",
        "if __name__ == \"__main__\":\n",
        "    urls = [\n",
        "        \"https://www.linkedin.com/in/sagnik-biswas-7740981b6/\",\n",
        "        \"https://github.com/sagnikbiswas\"\n",
        "    ] * 100\n",
        "    start_time = time.time()\n",
        "    download_all_sites(urls)\n",
        "    duration = time.time() - start_time\n",
        "    print(f\"Downloaded {len(urls)} pages in {duration} seconds\")\n"
      ],
      "execution_count": 2,
      "outputs": [
        {
          "output_type": "stream",
          "name": "stdout",
          "text": [
            "Read 1474 bytes from https://github.com/sagnikbiswas\n",
            "Read 1474 bytes from https://github.com/sagnikbiswas\n",
            "Read 1474 bytes from https://github.com/sagnikbiswas\n",
            "Read 1474 bytes from https://github.com/sagnikbiswas\n",
            "Read 1474 bytes from https://github.com/sagnikbiswas\n",
            "Read 1474 bytes from https://github.com/sagnikbiswas\n",
            "Read 1529 bytes from https://www.linkedin.com/in/sagnik-biswas-7740981b6/\n",
            "Read 1474 bytes from https://github.com/sagnikbiswas\n",
            "Read 1474 bytes from https://github.com/sagnikbiswas\n",
            "Read 1474 bytes from https://github.com/sagnikbiswas\n",
            "Read 1529 bytes from https://www.linkedin.com/in/sagnik-biswas-7740981b6/\n",
            "Read 1529 bytes from https://www.linkedin.com/in/sagnik-biswas-7740981b6/\n",
            "Read 1529 bytes from https://www.linkedin.com/in/sagnik-biswas-7740981b6/\n",
            "Read 1474 bytes from https://github.com/sagnikbiswas\n",
            "Read 1529 bytes from https://www.linkedin.com/in/sagnik-biswas-7740981b6/\n",
            "Read 1529 bytes from https://www.linkedin.com/in/sagnik-biswas-7740981b6/\n",
            "Read 1529 bytes from https://www.linkedin.com/in/sagnik-biswas-7740981b6/\n",
            "Read 1529 bytes from https://www.linkedin.com/in/sagnik-biswas-7740981b6/\n",
            "Read 1474 bytes from https://github.com/sagnikbiswas\n",
            "Read 1474 bytes from https://github.com/sagnikbiswas\n",
            "Read 1474 bytes from https://github.com/sagnikbiswas\n",
            "Read 1529 bytes from https://www.linkedin.com/in/sagnik-biswas-7740981b6/\n",
            "Read 1474 bytes from https://github.com/sagnikbiswas\n",
            "Read 1474 bytes from https://github.com/sagnikbiswas\n",
            "Read 1529 bytes from https://www.linkedin.com/in/sagnik-biswas-7740981b6/\n",
            "Read 1474 bytes from https://github.com/sagnikbiswas\n",
            "Read 1529 bytes from https://www.linkedin.com/in/sagnik-biswas-7740981b6/Read 1529 bytes from https://www.linkedin.com/in/sagnik-biswas-7740981b6/\n",
            "\n",
            "Read 1474 bytes from https://github.com/sagnikbiswas\n",
            "Read 1474 bytes from https://github.com/sagnikbiswasRead 1529 bytes from https://www.linkedin.com/in/sagnik-biswas-7740981b6/\n",
            "\n",
            "Read 1529 bytes from https://www.linkedin.com/in/sagnik-biswas-7740981b6/\n",
            "Read 1474 bytes from https://github.com/sagnikbiswas\n",
            "Read 1474 bytes from https://github.com/sagnikbiswas\n",
            "Read 1474 bytes from https://github.com/sagnikbiswas\n",
            "Read 1474 bytes from https://github.com/sagnikbiswas\n",
            "Read 1474 bytes from https://github.com/sagnikbiswas\n",
            "Read 1529 bytes from https://www.linkedin.com/in/sagnik-biswas-7740981b6/\n",
            "Read 1529 bytes from https://www.linkedin.com/in/sagnik-biswas-7740981b6/\n",
            "Read 1529 bytes from https://www.linkedin.com/in/sagnik-biswas-7740981b6/\n",
            "Read 1529 bytes from https://www.linkedin.com/in/sagnik-biswas-7740981b6/\n",
            "Read 1474 bytes from https://github.com/sagnikbiswas\n",
            "Read 1529 bytes from https://www.linkedin.com/in/sagnik-biswas-7740981b6/\n",
            "Read 1474 bytes from https://github.com/sagnikbiswas\n",
            "Read 1529 bytes from https://www.linkedin.com/in/sagnik-biswas-7740981b6/\n",
            "Read 1474 bytes from https://github.com/sagnikbiswas\n",
            "Read 1529 bytes from https://www.linkedin.com/in/sagnik-biswas-7740981b6/\n",
            "Read 1529 bytes from https://www.linkedin.com/in/sagnik-biswas-7740981b6/\n",
            "Read 1474 bytes from https://github.com/sagnikbiswas\n",
            "Read 1529 bytes from https://www.linkedin.com/in/sagnik-biswas-7740981b6/\n",
            "Read 1474 bytes from https://github.com/sagnikbiswasRead 1529 bytes from https://www.linkedin.com/in/sagnik-biswas-7740981b6/\n",
            "Read 1474 bytes from https://github.com/sagnikbiswas\n",
            "\n",
            "Read 1474 bytes from https://github.com/sagnikbiswas\n",
            "Read 1529 bytes from https://www.linkedin.com/in/sagnik-biswas-7740981b6/\n",
            "Read 1529 bytes from https://www.linkedin.com/in/sagnik-biswas-7740981b6/\n",
            "Read 1529 bytes from https://www.linkedin.com/in/sagnik-biswas-7740981b6/\n",
            "Read 1529 bytes from https://www.linkedin.com/in/sagnik-biswas-7740981b6/\n",
            "Read 1474 bytes from https://github.com/sagnikbiswas\n",
            "Read 1529 bytes from https://www.linkedin.com/in/sagnik-biswas-7740981b6/\n",
            "Read 1474 bytes from https://github.com/sagnikbiswas\n",
            "Read 1529 bytes from https://www.linkedin.com/in/sagnik-biswas-7740981b6/\n",
            "Read 1529 bytes from https://www.linkedin.com/in/sagnik-biswas-7740981b6/Read 1474 bytes from https://github.com/sagnikbiswasRead 1474 bytes from https://github.com/sagnikbiswas\n",
            "\n",
            "\n",
            "Read 1529 bytes from https://www.linkedin.com/in/sagnik-biswas-7740981b6/\n",
            "Read 1529 bytes from https://www.linkedin.com/in/sagnik-biswas-7740981b6/\n",
            "Read 1474 bytes from https://github.com/sagnikbiswas\n",
            "Read 1529 bytes from https://www.linkedin.com/in/sagnik-biswas-7740981b6/\n",
            "Read 1474 bytes from https://github.com/sagnikbiswasRead 1474 bytes from https://github.com/sagnikbiswas\n",
            "Read 1474 bytes from https://github.com/sagnikbiswas\n",
            "\n",
            "Read 1474 bytes from https://github.com/sagnikbiswas\n",
            "Read 1529 bytes from https://www.linkedin.com/in/sagnik-biswas-7740981b6/\n",
            "Read 1474 bytes from https://github.com/sagnikbiswas\n",
            "Read 1474 bytes from https://github.com/sagnikbiswas\n",
            "Read 1474 bytes from https://github.com/sagnikbiswas\n",
            "Read 1529 bytes from https://www.linkedin.com/in/sagnik-biswas-7740981b6/\n",
            "Read 1529 bytes from https://www.linkedin.com/in/sagnik-biswas-7740981b6/\n",
            "Read 1529 bytes from https://www.linkedin.com/in/sagnik-biswas-7740981b6/\n",
            "Read 1529 bytes from https://www.linkedin.com/in/sagnik-biswas-7740981b6/\n",
            "Read 1474 bytes from https://github.com/sagnikbiswas\n",
            "Read 1529 bytes from https://www.linkedin.com/in/sagnik-biswas-7740981b6/\n",
            "Read 1529 bytes from https://www.linkedin.com/in/sagnik-biswas-7740981b6/\n",
            "Read 1474 bytes from https://github.com/sagnikbiswas\n",
            "Read 1529 bytes from https://www.linkedin.com/in/sagnik-biswas-7740981b6/\n",
            "Read 1529 bytes from https://www.linkedin.com/in/sagnik-biswas-7740981b6/\n",
            "Read 1474 bytes from https://github.com/sagnikbiswas\n",
            "Read 1474 bytes from https://github.com/sagnikbiswas\n",
            "Read 1529 bytes from https://www.linkedin.com/in/sagnik-biswas-7740981b6/\n",
            "Read 1474 bytes from https://github.com/sagnikbiswas\n",
            "Read 1474 bytes from https://github.com/sagnikbiswas\n",
            "Read 1474 bytes from https://github.com/sagnikbiswas\n",
            "Read 1529 bytes from https://www.linkedin.com/in/sagnik-biswas-7740981b6/\n",
            "Read 1474 bytes from https://github.com/sagnikbiswas\n",
            "Read 1474 bytes from https://github.com/sagnikbiswas\n",
            "Read 1529 bytes from https://www.linkedin.com/in/sagnik-biswas-7740981b6/\n",
            "Read 1529 bytes from https://www.linkedin.com/in/sagnik-biswas-7740981b6/\n",
            "Read 1474 bytes from https://github.com/sagnikbiswas\n",
            "Read 1474 bytes from https://github.com/sagnikbiswas\n",
            "Read 1474 bytes from https://github.com/sagnikbiswas\n",
            "Read 1529 bytes from https://www.linkedin.com/in/sagnik-biswas-7740981b6/\n",
            "Read 1529 bytes from https://www.linkedin.com/in/sagnik-biswas-7740981b6/Read 1529 bytes from https://www.linkedin.com/in/sagnik-biswas-7740981b6/\n",
            "Read 1474 bytes from https://github.com/sagnikbiswas\n",
            "Read 1529 bytes from https://www.linkedin.com/in/sagnik-biswas-7740981b6/\n",
            "Read 1474 bytes from https://github.com/sagnikbiswas\n",
            "\n",
            "Read 1529 bytes from https://www.linkedin.com/in/sagnik-biswas-7740981b6/\n",
            "Read 1529 bytes from https://www.linkedin.com/in/sagnik-biswas-7740981b6/\n",
            "Read 1474 bytes from https://github.com/sagnikbiswas\n",
            "Read 1529 bytes from https://www.linkedin.com/in/sagnik-biswas-7740981b6/\n",
            "Read 1529 bytes from https://www.linkedin.com/in/sagnik-biswas-7740981b6/\n",
            "Read 1529 bytes from https://www.linkedin.com/in/sagnik-biswas-7740981b6/\n",
            "Read 1474 bytes from https://github.com/sagnikbiswas\n",
            "Read 1529 bytes from https://www.linkedin.com/in/sagnik-biswas-7740981b6/\n",
            "Read 1474 bytes from https://github.com/sagnikbiswas\n",
            "Read 1529 bytes from https://www.linkedin.com/in/sagnik-biswas-7740981b6/\n",
            "Read 1474 bytes from https://github.com/sagnikbiswas\n",
            "Read 1474 bytes from https://github.com/sagnikbiswas\n",
            "Read 1529 bytes from https://www.linkedin.com/in/sagnik-biswas-7740981b6/\n",
            "Read 1474 bytes from https://github.com/sagnikbiswas\n",
            "Read 1474 bytes from https://github.com/sagnikbiswas\n",
            "Read 1529 bytes from https://www.linkedin.com/in/sagnik-biswas-7740981b6/\n",
            "Read 1474 bytes from https://github.com/sagnikbiswas\n",
            "Read 1529 bytes from https://www.linkedin.com/in/sagnik-biswas-7740981b6/\n",
            "Read 1529 bytes from https://www.linkedin.com/in/sagnik-biswas-7740981b6/Read 1474 bytes from https://github.com/sagnikbiswas\n",
            "Read 1474 bytes from https://github.com/sagnikbiswasRead 1474 bytes from https://github.com/sagnikbiswas\n",
            "\n",
            "Read 1529 bytes from https://www.linkedin.com/in/sagnik-biswas-7740981b6/\n",
            "\n",
            "Read 1529 bytes from https://www.linkedin.com/in/sagnik-biswas-7740981b6/\n",
            "Read 1474 bytes from https://github.com/sagnikbiswas\n",
            "Read 1474 bytes from https://github.com/sagnikbiswas\n",
            "Read 1474 bytes from https://github.com/sagnikbiswas\n",
            "Read 1474 bytes from https://github.com/sagnikbiswas\n",
            "Read 1529 bytes from https://www.linkedin.com/in/sagnik-biswas-7740981b6/\n",
            "Read 1474 bytes from https://github.com/sagnikbiswas\n",
            "Read 1529 bytes from https://www.linkedin.com/in/sagnik-biswas-7740981b6/\n",
            "Read 1474 bytes from https://github.com/sagnikbiswas\n",
            "Read 1529 bytes from https://www.linkedin.com/in/sagnik-biswas-7740981b6/\n",
            "Read 1474 bytes from https://github.com/sagnikbiswas\n",
            "Read 1474 bytes from https://github.com/sagnikbiswas\n",
            "Read 1529 bytes from https://www.linkedin.com/in/sagnik-biswas-7740981b6/\n",
            "Read 1474 bytes from https://github.com/sagnikbiswas\n",
            "Read 1529 bytes from https://www.linkedin.com/in/sagnik-biswas-7740981b6/\n",
            "Read 1474 bytes from https://github.com/sagnikbiswas\n",
            "Read 1474 bytes from https://github.com/sagnikbiswas\n",
            "Read 1474 bytes from https://github.com/sagnikbiswas\n",
            "Read 1474 bytes from https://github.com/sagnikbiswas\n",
            "Read 1529 bytes from https://www.linkedin.com/in/sagnik-biswas-7740981b6/\n",
            "Read 1474 bytes from https://github.com/sagnikbiswas\n",
            "Read 1529 bytes from https://www.linkedin.com/in/sagnik-biswas-7740981b6/\n",
            "Read 1474 bytes from https://github.com/sagnikbiswas\n",
            "Read 1529 bytes from https://www.linkedin.com/in/sagnik-biswas-7740981b6/\n",
            "Read 1529 bytes from https://www.linkedin.com/in/sagnik-biswas-7740981b6/\n",
            "Read 1529 bytes from https://www.linkedin.com/in/sagnik-biswas-7740981b6/\n",
            "Read 1529 bytes from https://www.linkedin.com/in/sagnik-biswas-7740981b6/Read 1529 bytes from https://www.linkedin.com/in/sagnik-biswas-7740981b6/\n",
            "Read 1529 bytes from https://www.linkedin.com/in/sagnik-biswas-7740981b6/\n",
            "\n",
            "Read 1474 bytes from https://github.com/sagnikbiswas\n",
            "Read 1474 bytes from https://github.com/sagnikbiswas\n",
            "Read 1474 bytes from https://github.com/sagnikbiswasRead 1529 bytes from https://www.linkedin.com/in/sagnik-biswas-7740981b6/\n",
            "Read 1529 bytes from https://www.linkedin.com/in/sagnik-biswas-7740981b6/\n",
            "Read 1529 bytes from https://www.linkedin.com/in/sagnik-biswas-7740981b6/\n",
            "Read 1474 bytes from https://github.com/sagnikbiswas\n",
            "Read 1474 bytes from https://github.com/sagnikbiswas\n",
            "\n",
            "Read 1529 bytes from https://www.linkedin.com/in/sagnik-biswas-7740981b6/\n",
            "Read 1474 bytes from https://github.com/sagnikbiswas\n",
            "Read 1529 bytes from https://www.linkedin.com/in/sagnik-biswas-7740981b6/\n",
            "Read 1474 bytes from https://github.com/sagnikbiswas\n",
            "Read 1474 bytes from https://github.com/sagnikbiswas\n",
            "Read 1529 bytes from https://www.linkedin.com/in/sagnik-biswas-7740981b6/\n",
            "Read 1529 bytes from https://www.linkedin.com/in/sagnik-biswas-7740981b6/\n",
            "Read 1529 bytes from https://www.linkedin.com/in/sagnik-biswas-7740981b6/\n",
            "Read 1529 bytes from https://www.linkedin.com/in/sagnik-biswas-7740981b6/\n",
            "Read 1474 bytes from https://github.com/sagnikbiswas\n",
            "Read 1529 bytes from https://www.linkedin.com/in/sagnik-biswas-7740981b6/\n",
            "Read 1529 bytes from https://www.linkedin.com/in/sagnik-biswas-7740981b6/Read 1529 bytes from https://www.linkedin.com/in/sagnik-biswas-7740981b6/\n",
            "Read 1529 bytes from https://www.linkedin.com/in/sagnik-biswas-7740981b6/\n",
            "Read 1474 bytes from https://github.com/sagnikbiswas\n",
            "Read 1474 bytes from https://github.com/sagnikbiswas\n",
            "Read 1474 bytes from https://github.com/sagnikbiswas\n",
            "\n",
            "Read 1529 bytes from https://www.linkedin.com/in/sagnik-biswas-7740981b6/\n",
            "Read 1474 bytes from https://github.com/sagnikbiswas\n",
            "Read 1474 bytes from https://github.com/sagnikbiswas\n",
            "Read 1529 bytes from https://www.linkedin.com/in/sagnik-biswas-7740981b6/\n",
            "Read 1474 bytes from https://github.com/sagnikbiswas\n",
            "Read 1474 bytes from https://github.com/sagnikbiswas\n",
            "Read 1529 bytes from https://www.linkedin.com/in/sagnik-biswas-7740981b6/\n",
            "Read 1474 bytes from https://github.com/sagnikbiswas\n",
            "Read 1529 bytes from https://www.linkedin.com/in/sagnik-biswas-7740981b6/\n",
            "Read 1529 bytes from https://www.linkedin.com/in/sagnik-biswas-7740981b6/\n",
            "Read 1529 bytes from https://www.linkedin.com/in/sagnik-biswas-7740981b6/\n",
            "Read 1529 bytes from https://www.linkedin.com/in/sagnik-biswas-7740981b6/\n",
            "Read 1474 bytes from https://github.com/sagnikbiswas\n",
            "Read 1529 bytes from https://www.linkedin.com/in/sagnik-biswas-7740981b6/\n",
            "Read 1529 bytes from https://www.linkedin.com/in/sagnik-biswas-7740981b6/\n",
            "Read 1529 bytes from https://www.linkedin.com/in/sagnik-biswas-7740981b6/\n",
            "Downloaded 200 pages in 1.100083827972412 seconds\n"
          ]
        }
      ]
    },
    {
      "cell_type": "markdown",
      "metadata": {
        "id": "F6B-W7YHJ_XS"
      },
      "source": [
        "Pitfalls of threading: race condition among threads. We can already see wonky stdout in the previous example.\n",
        "\n",
        "In the below code, upto 5000 threads race to increment the global shared variable `counter` for a total of `100,000 * 100` times. But the result is (probably) less than `10,000,000`, as some thrads read the value of `counter`, but before they can increment it, some other thread increments it to an inconsistent state.\n",
        "\n",
        "For me Google Colab consistently gives wrong result, but the effect is more subtle in local machine."
      ]
    },
    {
      "cell_type": "code",
      "metadata": {
        "colab": {
          "base_uri": "https://localhost:8080/"
        },
        "id": "Nw8m7xxi740Q",
        "outputId": "6de92442-9015-47c6-d2e5-4f43592da42d"
      },
      "source": [
        "import concurrent.futures\n",
        "\n",
        "counter = 0\n",
        "\n",
        "def increment_counter(fake_value):\n",
        "    global counter\n",
        "    for _ in range(100):\n",
        "        counter += 1\n",
        "\n",
        "\n",
        "if __name__ == \"__main__\":\n",
        "    fake_data = range(100000)\n",
        "    counter = 0\n",
        "    with concurrent.futures.ThreadPoolExecutor(max_workers=5000) as executor:\n",
        "        executor.map(increment_counter, fake_data)\n",
        "    print(counter)"
      ],
      "execution_count": 3,
      "outputs": [
        {
          "output_type": "stream",
          "name": "stdout",
          "text": [
            "7425606\n"
          ]
        }
      ]
    },
    {
      "cell_type": "markdown",
      "metadata": {
        "id": "QN21ecGe5pfq"
      },
      "source": [
        "##Asyncio Version"
      ]
    },
    {
      "cell_type": "markdown",
      "metadata": {
        "id": "x5pQgTzmETIW"
      },
      "source": [
        "With `asyncio`, we do not need to create separate threads, but take advantage of non-preemptive multitasking, where one *task* voluntarily hands over control to other tasks, via some internal mechanism of asyncio, when it needs to wait for response from an I/O.\n",
        "\n",
        "We need specific Python modules which support cooperation for async to work."
      ]
    },
    {
      "cell_type": "code",
      "metadata": {
        "colab": {
          "base_uri": "https://localhost:8080/"
        },
        "id": "NGgMfu3B51aA",
        "outputId": "5b852ba5-ef1e-43e4-fe89-41a5c932ff1b"
      },
      "source": [
        "!pip install aiohttp"
      ],
      "execution_count": 4,
      "outputs": [
        {
          "output_type": "stream",
          "name": "stdout",
          "text": [
            "Requirement already satisfied: aiohttp in /usr/local/lib/python3.7/dist-packages (3.7.4.post0)\n",
            "Requirement already satisfied: attrs>=17.3.0 in /usr/local/lib/python3.7/dist-packages (from aiohttp) (21.2.0)\n",
            "Requirement already satisfied: yarl<2.0,>=1.0 in /usr/local/lib/python3.7/dist-packages (from aiohttp) (1.6.3)\n",
            "Requirement already satisfied: multidict<7.0,>=4.5 in /usr/local/lib/python3.7/dist-packages (from aiohttp) (5.1.0)\n",
            "Requirement already satisfied: chardet<5.0,>=2.0 in /usr/local/lib/python3.7/dist-packages (from aiohttp) (3.0.4)\n",
            "Requirement already satisfied: typing-extensions>=3.6.5 in /usr/local/lib/python3.7/dist-packages (from aiohttp) (3.7.4.3)\n",
            "Requirement already satisfied: async-timeout<4.0,>=3.0 in /usr/local/lib/python3.7/dist-packages (from aiohttp) (3.0.1)\n",
            "Requirement already satisfied: idna>=2.0 in /usr/local/lib/python3.7/dist-packages (from yarl<2.0,>=1.0->aiohttp) (2.10)\n"
          ]
        }
      ]
    },
    {
      "cell_type": "markdown",
      "metadata": {
        "id": "GqMUXyk-F61v"
      },
      "source": [
        "Need to istall `nest-asyncio` for running in Colab."
      ]
    },
    {
      "cell_type": "code",
      "metadata": {
        "colab": {
          "base_uri": "https://localhost:8080/"
        },
        "id": "q7enSSKW6o4r",
        "outputId": "5f6cfd5a-4268-48fd-c295-69b1b16601bf"
      },
      "source": [
        "!pip install nest-asyncio\n",
        "import nest_asyncio\n",
        "nest_asyncio.apply()"
      ],
      "execution_count": 5,
      "outputs": [
        {
          "output_type": "stream",
          "name": "stdout",
          "text": [
            "Requirement already satisfied: nest-asyncio in /usr/local/lib/python3.7/dist-packages (1.5.1)\n"
          ]
        }
      ]
    },
    {
      "cell_type": "code",
      "metadata": {
        "id": "KWsBZOI_5mxW"
      },
      "source": [
        "import asyncio\n",
        "import time\n",
        "import aiohttp\n",
        "\n",
        "async def download_site(session, url):\n",
        "    async with session.get(url) as response:\n",
        "        length = response.content_length or \"Some\"\n",
        "\n",
        "        # content_length is read from http header if its present\n",
        "        # otherwise None is returned\n",
        "\n",
        "        print(f\"Read {length} bytes from {url}\")\n",
        "\n",
        "async def download_all_sites(urls):\n",
        "    async with aiohttp.ClientSession() as session:\n",
        "        tasks = []\n",
        "        for url in urls:\n",
        "            task = asyncio.ensure_future(download_site(session, url))\n",
        "            tasks.append(task)\n",
        "\n",
        "        await asyncio.gather(*tasks, return_exceptions=True)\n",
        "\n",
        "if __name__ == \"__main__\":\n",
        "    urls = [\n",
        "        \"https://www.linkedin.com/in/sagnik-biswas-7740981b6/\",\n",
        "        \"https://github.com/sagnikbiswas\"\n",
        "    ] * 100\n",
        "\n",
        "    start_time = time.time()\n",
        "    asyncio.get_event_loop().run_until_complete(download_all_sites(urls))\n",
        "    # asyncio.run is causing RuntimeError('Event loop is closed') in Win10\n",
        "    time_took = time.time() - start_time\n",
        "    print(f\"Downloaded {len(urls)} pages in {time_took} seconds\")"
      ],
      "execution_count": 9,
      "outputs": []
    },
    {
      "cell_type": "markdown",
      "metadata": {
        "id": "5_HKZ2Y6HFOD"
      },
      "source": [
        "By far the fastest method and without the dangers of threading."
      ]
    },
    {
      "cell_type": "markdown",
      "metadata": {
        "id": "0wvHkSvC9eW6"
      },
      "source": [
        "##Multiprocessing version"
      ]
    },
    {
      "cell_type": "markdown",
      "metadata": {
        "id": "PFbVeGXHIFzV"
      },
      "source": [
        "Use `multiprocessing` to utilize multiple cores of a CPU. A new instance of Python interpreter is run for each process, so the overhead is very high."
      ]
    },
    {
      "cell_type": "code",
      "metadata": {
        "colab": {
          "base_uri": "https://localhost:8080/"
        },
        "id": "lnmwBbjr9hTO",
        "outputId": "5c0e90c7-2256-4305-a871-7567452a8593"
      },
      "source": [
        "import requests\n",
        "import multiprocessing\n",
        "import time\n",
        "\n",
        "session = None\n",
        "\n",
        "\n",
        "def set_global_session():\n",
        "    global session\n",
        "    if not session:\n",
        "        session = requests.Session()\n",
        "\n",
        "\n",
        "def download_site(url):\n",
        "    with session.get(url) as response:\n",
        "        name = multiprocessing.current_process().name\n",
        "        print(f\"{name}:Read {len(response.content)} bytes from {url}\")\n",
        "\n",
        "\n",
        "def download_all_sites(urls):\n",
        "    with multiprocessing.Pool(initializer=set_global_session) as pool:\n",
        "        pool.map(download_site, urls)\n",
        "\n",
        "\n",
        "if __name__ == \"__main__\":\n",
        "    urls = [\n",
        "        \"https://www.linkedin.com/in/sagnik-biswas-7740981b6/\",\n",
        "        \"https://github.com/sagnikbiswas\"\n",
        "    ] * 100\n",
        "    start_time = time.time()\n",
        "    download_all_sites(urls)\n",
        "    time_took = time.time() - start_time\n",
        "    print(f\"Downloaded {len(urls)} pages in {time_took} seconds\")\n"
      ],
      "execution_count": 6,
      "outputs": [
        {
          "output_type": "stream",
          "name": "stdout",
          "text": [
            "ForkPoolWorker-1:Read 1474 bytes from https://github.com/sagnikbiswas\n",
            "ForkPoolWorker-2:Read 1529 bytes from https://www.linkedin.com/in/sagnik-biswas-7740981b6/\n",
            "ForkPoolWorker-2:Read 1474 bytes from https://github.com/sagnikbiswas\n",
            "ForkPoolWorker-1:Read 1529 bytes from https://www.linkedin.com/in/sagnik-biswas-7740981b6/\n",
            "ForkPoolWorker-1:Read 1474 bytes from https://github.com/sagnikbiswas\n",
            "ForkPoolWorker-2:Read 1529 bytes from https://www.linkedin.com/in/sagnik-biswas-7740981b6/\n",
            "ForkPoolWorker-2:Read 1474 bytes from https://github.com/sagnikbiswas\n",
            "ForkPoolWorker-1:Read 1529 bytes from https://www.linkedin.com/in/sagnik-biswas-7740981b6/\n",
            "ForkPoolWorker-1:Read 1474 bytes from https://github.com/sagnikbiswas\n",
            "ForkPoolWorker-1:Read 1529 bytes from https://www.linkedin.com/in/sagnik-biswas-7740981b6/\n",
            "ForkPoolWorker-2:Read 1529 bytes from https://www.linkedin.com/in/sagnik-biswas-7740981b6/\n",
            "ForkPoolWorker-1:Read 1474 bytes from https://github.com/sagnikbiswas\n",
            "ForkPoolWorker-2:Read 1474 bytes from https://github.com/sagnikbiswas\n",
            "ForkPoolWorker-1:Read 1529 bytes from https://www.linkedin.com/in/sagnik-biswas-7740981b6/\n",
            "ForkPoolWorker-1:Read 1474 bytes from https://github.com/sagnikbiswas\n",
            "ForkPoolWorker-2:Read 1529 bytes from https://www.linkedin.com/in/sagnik-biswas-7740981b6/\n",
            "ForkPoolWorker-2:Read 1474 bytes from https://github.com/sagnikbiswas\n",
            "ForkPoolWorker-1:Read 1529 bytes from https://www.linkedin.com/in/sagnik-biswas-7740981b6/\n",
            "ForkPoolWorker-1:Read 1474 bytes from https://github.com/sagnikbiswas\n",
            "ForkPoolWorker-2:Read 1529 bytes from https://www.linkedin.com/in/sagnik-biswas-7740981b6/\n",
            "ForkPoolWorker-2:Read 1474 bytes from https://github.com/sagnikbiswas\n",
            "ForkPoolWorker-1:Read 1529 bytes from https://www.linkedin.com/in/sagnik-biswas-7740981b6/\n",
            "ForkPoolWorker-1:Read 1474 bytes from https://github.com/sagnikbiswas\n",
            "ForkPoolWorker-2:Read 1529 bytes from https://www.linkedin.com/in/sagnik-biswas-7740981b6/\n",
            "ForkPoolWorker-2:Read 1474 bytes from https://github.com/sagnikbiswas\n",
            "ForkPoolWorker-1:Read 1529 bytes from https://www.linkedin.com/in/sagnik-biswas-7740981b6/\n",
            "ForkPoolWorker-1:Read 1474 bytes from https://github.com/sagnikbiswas\n",
            "ForkPoolWorker-2:Read 1529 bytes from https://www.linkedin.com/in/sagnik-biswas-7740981b6/\n",
            "ForkPoolWorker-1:Read 1529 bytes from https://www.linkedin.com/in/sagnik-biswas-7740981b6/\n",
            "ForkPoolWorker-2:Read 162884 bytes from https://github.com/sagnikbiswas\n",
            "ForkPoolWorker-2:Read 1529 bytes from https://www.linkedin.com/in/sagnik-biswas-7740981b6/\n",
            "ForkPoolWorker-2:Read 162884 bytes from https://github.com/sagnikbiswas\n",
            "ForkPoolWorker-2:Read 1529 bytes from https://www.linkedin.com/in/sagnik-biswas-7740981b6/\n",
            "ForkPoolWorker-2:Read 162884 bytes from https://github.com/sagnikbiswas\n",
            "ForkPoolWorker-1:Read 162878 bytes from https://github.com/sagnikbiswas\n",
            "ForkPoolWorker-2:Read 1529 bytes from https://www.linkedin.com/in/sagnik-biswas-7740981b6/\n",
            "ForkPoolWorker-1:Read 1529 bytes from https://www.linkedin.com/in/sagnik-biswas-7740981b6/\n",
            "ForkPoolWorker-2:Read 162884 bytes from https://github.com/sagnikbiswas\n",
            "ForkPoolWorker-1:Read 162878 bytes from https://github.com/sagnikbiswas\n",
            "ForkPoolWorker-2:Read 1529 bytes from https://www.linkedin.com/in/sagnik-biswas-7740981b6/\n",
            "ForkPoolWorker-1:Read 1529 bytes from https://www.linkedin.com/in/sagnik-biswas-7740981b6/\n",
            "ForkPoolWorker-2:Read 162884 bytes from https://github.com/sagnikbiswas\n",
            "ForkPoolWorker-1:Read 162878 bytes from https://github.com/sagnikbiswas\n",
            "ForkPoolWorker-2:Read 1529 bytes from https://www.linkedin.com/in/sagnik-biswas-7740981b6/\n",
            "ForkPoolWorker-1:Read 1529 bytes from https://www.linkedin.com/in/sagnik-biswas-7740981b6/\n",
            "ForkPoolWorker-2:Read 162884 bytes from https://github.com/sagnikbiswas\n",
            "ForkPoolWorker-1:Read 162878 bytes from https://github.com/sagnikbiswas\n",
            "ForkPoolWorker-2:Read 1529 bytes from https://www.linkedin.com/in/sagnik-biswas-7740981b6/\n",
            "ForkPoolWorker-1:Read 1529 bytes from https://www.linkedin.com/in/sagnik-biswas-7740981b6/\n",
            "ForkPoolWorker-1:Read 162878 bytes from https://github.com/sagnikbiswas\n",
            "ForkPoolWorker-2:Read 1529 bytes from https://www.linkedin.com/in/sagnik-biswas-7740981b6/\n",
            "ForkPoolWorker-1:Read 162878 bytes from https://github.com/sagnikbiswas\n",
            "ForkPoolWorker-2:Read 162884 bytes from https://github.com/sagnikbiswas\n",
            "ForkPoolWorker-1:Read 1529 bytes from https://www.linkedin.com/in/sagnik-biswas-7740981b6/\n",
            "ForkPoolWorker-1:Read 162878 bytes from https://github.com/sagnikbiswas\n",
            "ForkPoolWorker-2:Read 1529 bytes from https://www.linkedin.com/in/sagnik-biswas-7740981b6/\n",
            "ForkPoolWorker-2:Read 162884 bytes from https://github.com/sagnikbiswas\n",
            "ForkPoolWorker-1:Read 1529 bytes from https://www.linkedin.com/in/sagnik-biswas-7740981b6/\n",
            "ForkPoolWorker-2:Read 1529 bytes from https://www.linkedin.com/in/sagnik-biswas-7740981b6/\n",
            "ForkPoolWorker-1:Read 162878 bytes from https://github.com/sagnikbiswas\n",
            "ForkPoolWorker-2:Read 162884 bytes from https://github.com/sagnikbiswas\n",
            "ForkPoolWorker-1:Read 1529 bytes from https://www.linkedin.com/in/sagnik-biswas-7740981b6/\n",
            "ForkPoolWorker-1:Read 162878 bytes from https://github.com/sagnikbiswas\n",
            "ForkPoolWorker-2:Read 1529 bytes from https://www.linkedin.com/in/sagnik-biswas-7740981b6/\n",
            "ForkPoolWorker-2:Read 162884 bytes from https://github.com/sagnikbiswas\n",
            "ForkPoolWorker-1:Read 1529 bytes from https://www.linkedin.com/in/sagnik-biswas-7740981b6/\n",
            "ForkPoolWorker-1:Read 162878 bytes from https://github.com/sagnikbiswas\n",
            "ForkPoolWorker-1:Read 1529 bytes from https://www.linkedin.com/in/sagnik-biswas-7740981b6/\n",
            "ForkPoolWorker-2:Read 1529 bytes from https://www.linkedin.com/in/sagnik-biswas-7740981b6/\n",
            "ForkPoolWorker-1:Read 162878 bytes from https://github.com/sagnikbiswas\n",
            "ForkPoolWorker-2:Read 162884 bytes from https://github.com/sagnikbiswas\n",
            "ForkPoolWorker-1:Read 1529 bytes from https://www.linkedin.com/in/sagnik-biswas-7740981b6/\n",
            "ForkPoolWorker-2:Read 1529 bytes from https://www.linkedin.com/in/sagnik-biswas-7740981b6/\n",
            "ForkPoolWorker-1:Read 162878 bytes from https://github.com/sagnikbiswas\n",
            "ForkPoolWorker-2:Read 162884 bytes from https://github.com/sagnikbiswas\n",
            "ForkPoolWorker-1:Read 1529 bytes from https://www.linkedin.com/in/sagnik-biswas-7740981b6/\n",
            "ForkPoolWorker-1:Read 162878 bytes from https://github.com/sagnikbiswas\n",
            "ForkPoolWorker-2:Read 1529 bytes from https://www.linkedin.com/in/sagnik-biswas-7740981b6/\n",
            "ForkPoolWorker-2:Read 162884 bytes from https://github.com/sagnikbiswas\n",
            "ForkPoolWorker-1:Read 1529 bytes from https://www.linkedin.com/in/sagnik-biswas-7740981b6/\n",
            "ForkPoolWorker-1:Read 162878 bytes from https://github.com/sagnikbiswas\n",
            "ForkPoolWorker-2:Read 1529 bytes from https://www.linkedin.com/in/sagnik-biswas-7740981b6/\n",
            "ForkPoolWorker-2:Read 162884 bytes from https://github.com/sagnikbiswas\n",
            "ForkPoolWorker-1:Read 1529 bytes from https://www.linkedin.com/in/sagnik-biswas-7740981b6/\n",
            "ForkPoolWorker-1:Read 162878 bytes from https://github.com/sagnikbiswas\n",
            "ForkPoolWorker-2:Read 1529 bytes from https://www.linkedin.com/in/sagnik-biswas-7740981b6/\n",
            "ForkPoolWorker-1:Read 1529 bytes from https://www.linkedin.com/in/sagnik-biswas-7740981b6/\n",
            "ForkPoolWorker-2:Read 162884 bytes from https://github.com/sagnikbiswas\n",
            "ForkPoolWorker-1:Read 162878 bytes from https://github.com/sagnikbiswas\n",
            "ForkPoolWorker-2:Read 1529 bytes from https://www.linkedin.com/in/sagnik-biswas-7740981b6/\n",
            "ForkPoolWorker-1:Read 1529 bytes from https://www.linkedin.com/in/sagnik-biswas-7740981b6/\n",
            "ForkPoolWorker-1:Read 162878 bytes from https://github.com/sagnikbiswas\n",
            "ForkPoolWorker-2:Read 162884 bytes from https://github.com/sagnikbiswas\n",
            "ForkPoolWorker-1:Read 1529 bytes from https://www.linkedin.com/in/sagnik-biswas-7740981b6/\n",
            "ForkPoolWorker-2:Read 1529 bytes from https://www.linkedin.com/in/sagnik-biswas-7740981b6/\n",
            "ForkPoolWorker-1:Read 162878 bytes from https://github.com/sagnikbiswas\n",
            "ForkPoolWorker-2:Read 162884 bytes from https://github.com/sagnikbiswas\n",
            "ForkPoolWorker-1:Read 1529 bytes from https://www.linkedin.com/in/sagnik-biswas-7740981b6/\n",
            "ForkPoolWorker-1:Read 162878 bytes from https://github.com/sagnikbiswas\n",
            "ForkPoolWorker-2:Read 1529 bytes from https://www.linkedin.com/in/sagnik-biswas-7740981b6/\n",
            "ForkPoolWorker-2:Read 162884 bytes from https://github.com/sagnikbiswas\n",
            "ForkPoolWorker-1:Read 1529 bytes from https://www.linkedin.com/in/sagnik-biswas-7740981b6/\n",
            "ForkPoolWorker-1:Read 162878 bytes from https://github.com/sagnikbiswas\n",
            "ForkPoolWorker-2:Read 1529 bytes from https://www.linkedin.com/in/sagnik-biswas-7740981b6/\n",
            "ForkPoolWorker-1:Read 1529 bytes from https://www.linkedin.com/in/sagnik-biswas-7740981b6/\n",
            "ForkPoolWorker-2:Read 162884 bytes from https://github.com/sagnikbiswas\n",
            "ForkPoolWorker-1:Read 162878 bytes from https://github.com/sagnikbiswas\n",
            "ForkPoolWorker-2:Read 1529 bytes from https://www.linkedin.com/in/sagnik-biswas-7740981b6/\n",
            "ForkPoolWorker-2:Read 162884 bytes from https://github.com/sagnikbiswas\n",
            "ForkPoolWorker-1:Read 1529 bytes from https://www.linkedin.com/in/sagnik-biswas-7740981b6/\n",
            "ForkPoolWorker-1:Read 162878 bytes from https://github.com/sagnikbiswas\n",
            "ForkPoolWorker-2:Read 1529 bytes from https://www.linkedin.com/in/sagnik-biswas-7740981b6/\n",
            "ForkPoolWorker-2:Read 162884 bytes from https://github.com/sagnikbiswas\n",
            "ForkPoolWorker-1:Read 1529 bytes from https://www.linkedin.com/in/sagnik-biswas-7740981b6/\n",
            "ForkPoolWorker-1:Read 162878 bytes from https://github.com/sagnikbiswas\n",
            "ForkPoolWorker-2:Read 1529 bytes from https://www.linkedin.com/in/sagnik-biswas-7740981b6/\n",
            "ForkPoolWorker-2:Read 162884 bytes from https://github.com/sagnikbiswas\n",
            "ForkPoolWorker-1:Read 1529 bytes from https://www.linkedin.com/in/sagnik-biswas-7740981b6/\n",
            "ForkPoolWorker-1:Read 162878 bytes from https://github.com/sagnikbiswas\n",
            "ForkPoolWorker-2:Read 1529 bytes from https://www.linkedin.com/in/sagnik-biswas-7740981b6/\n",
            "ForkPoolWorker-1:Read 1529 bytes from https://www.linkedin.com/in/sagnik-biswas-7740981b6/\n",
            "ForkPoolWorker-2:Read 162884 bytes from https://github.com/sagnikbiswas\n",
            "ForkPoolWorker-1:Read 162878 bytes from https://github.com/sagnikbiswas\n",
            "ForkPoolWorker-2:Read 1529 bytes from https://www.linkedin.com/in/sagnik-biswas-7740981b6/\n",
            "ForkPoolWorker-2:Read 162884 bytes from https://github.com/sagnikbiswas\n",
            "ForkPoolWorker-1:Read 1529 bytes from https://www.linkedin.com/in/sagnik-biswas-7740981b6/\n",
            "ForkPoolWorker-2:Read 1529 bytes from https://www.linkedin.com/in/sagnik-biswas-7740981b6/\n",
            "ForkPoolWorker-1:Read 162878 bytes from https://github.com/sagnikbiswas\n",
            "ForkPoolWorker-2:Read 162884 bytes from https://github.com/sagnikbiswas\n",
            "ForkPoolWorker-1:Read 1529 bytes from https://www.linkedin.com/in/sagnik-biswas-7740981b6/\n",
            "ForkPoolWorker-1:Read 162878 bytes from https://github.com/sagnikbiswas\n",
            "ForkPoolWorker-2:Read 1529 bytes from https://www.linkedin.com/in/sagnik-biswas-7740981b6/\n",
            "ForkPoolWorker-2:Read 162884 bytes from https://github.com/sagnikbiswas\n",
            "ForkPoolWorker-1:Read 1529 bytes from https://www.linkedin.com/in/sagnik-biswas-7740981b6/\n",
            "ForkPoolWorker-2:Read 1529 bytes from https://www.linkedin.com/in/sagnik-biswas-7740981b6/\n",
            "ForkPoolWorker-1:Read 162878 bytes from https://github.com/sagnikbiswas\n",
            "ForkPoolWorker-2:Read 162884 bytes from https://github.com/sagnikbiswas\n",
            "ForkPoolWorker-2:Read 1529 bytes from https://www.linkedin.com/in/sagnik-biswas-7740981b6/\n",
            "ForkPoolWorker-1:Read 1529 bytes from https://www.linkedin.com/in/sagnik-biswas-7740981b6/\n",
            "ForkPoolWorker-2:Read 162884 bytes from https://github.com/sagnikbiswas\n",
            "ForkPoolWorker-1:Read 162878 bytes from https://github.com/sagnikbiswas\n",
            "ForkPoolWorker-2:Read 1529 bytes from https://www.linkedin.com/in/sagnik-biswas-7740981b6/\n",
            "ForkPoolWorker-1:Read 1529 bytes from https://www.linkedin.com/in/sagnik-biswas-7740981b6/\n",
            "ForkPoolWorker-2:Read 162884 bytes from https://github.com/sagnikbiswas\n",
            "ForkPoolWorker-1:Read 162878 bytes from https://github.com/sagnikbiswas\n",
            "ForkPoolWorker-2:Read 1529 bytes from https://www.linkedin.com/in/sagnik-biswas-7740981b6/\n",
            "ForkPoolWorker-1:Read 1529 bytes from https://www.linkedin.com/in/sagnik-biswas-7740981b6/\n",
            "ForkPoolWorker-2:Read 162884 bytes from https://github.com/sagnikbiswas\n",
            "ForkPoolWorker-2:Read 1529 bytes from https://www.linkedin.com/in/sagnik-biswas-7740981b6/\n",
            "ForkPoolWorker-1:Read 1529 bytes from https://www.linkedin.com/in/sagnik-biswas-7740981b6/\n",
            "ForkPoolWorker-2:Read 162884 bytes from https://github.com/sagnikbiswas\n",
            "ForkPoolWorker-1:Read 162878 bytes from https://github.com/sagnikbiswas\n",
            "ForkPoolWorker-2:Read 162884 bytes from https://github.com/sagnikbiswas\n",
            "ForkPoolWorker-1:Read 1529 bytes from https://www.linkedin.com/in/sagnik-biswas-7740981b6/\n",
            "ForkPoolWorker-2:Read 1529 bytes from https://www.linkedin.com/in/sagnik-biswas-7740981b6/\n",
            "ForkPoolWorker-1:Read 162878 bytes from https://github.com/sagnikbiswas\n",
            "ForkPoolWorker-2:Read 162884 bytes from https://github.com/sagnikbiswas\n",
            "ForkPoolWorker-2:Read 1529 bytes from https://www.linkedin.com/in/sagnik-biswas-7740981b6/\n",
            "ForkPoolWorker-1:Read 1529 bytes from https://www.linkedin.com/in/sagnik-biswas-7740981b6/\n",
            "ForkPoolWorker-2:Read 162884 bytes from https://github.com/sagnikbiswas\n",
            "ForkPoolWorker-1:Read 1474 bytes from https://github.com/sagnikbiswas\n",
            "ForkPoolWorker-2:Read 1529 bytes from https://www.linkedin.com/in/sagnik-biswas-7740981b6/\n",
            "ForkPoolWorker-1:Read 1529 bytes from https://www.linkedin.com/in/sagnik-biswas-7740981b6/\n",
            "ForkPoolWorker-2:Read 1474 bytes from https://github.com/sagnikbiswas\n",
            "ForkPoolWorker-1:Read 1474 bytes from https://github.com/sagnikbiswas\n",
            "ForkPoolWorker-1:Read 1529 bytes from https://www.linkedin.com/in/sagnik-biswas-7740981b6/\n",
            "ForkPoolWorker-2:Read 1529 bytes from https://www.linkedin.com/in/sagnik-biswas-7740981b6/\n",
            "ForkPoolWorker-1:Read 1474 bytes from https://github.com/sagnikbiswas\n",
            "ForkPoolWorker-2:Read 1474 bytes from https://github.com/sagnikbiswas\n",
            "ForkPoolWorker-2:Read 1529 bytes from https://www.linkedin.com/in/sagnik-biswas-7740981b6/\n",
            "ForkPoolWorker-2:Read 1474 bytes from https://github.com/sagnikbiswas\n",
            "ForkPoolWorker-1:Read 1529 bytes from https://www.linkedin.com/in/sagnik-biswas-7740981b6/\n",
            "ForkPoolWorker-1:Read 1474 bytes from https://github.com/sagnikbiswas\n",
            "ForkPoolWorker-2:Read 1529 bytes from https://www.linkedin.com/in/sagnik-biswas-7740981b6/\n",
            "ForkPoolWorker-2:Read 1474 bytes from https://github.com/sagnikbiswas\n",
            "ForkPoolWorker-1:Read 1529 bytes from https://www.linkedin.com/in/sagnik-biswas-7740981b6/\n",
            "ForkPoolWorker-1:Read 1474 bytes from https://github.com/sagnikbiswas\n",
            "ForkPoolWorker-2:Read 1529 bytes from https://www.linkedin.com/in/sagnik-biswas-7740981b6/\n",
            "ForkPoolWorker-2:Read 1474 bytes from https://github.com/sagnikbiswas\n",
            "ForkPoolWorker-1:Read 1529 bytes from https://www.linkedin.com/in/sagnik-biswas-7740981b6/\n",
            "ForkPoolWorker-2:Read 1529 bytes from https://www.linkedin.com/in/sagnik-biswas-7740981b6/\n",
            "ForkPoolWorker-1:Read 1474 bytes from https://github.com/sagnikbiswas\n",
            "ForkPoolWorker-2:Read 1474 bytes from https://github.com/sagnikbiswas\n",
            "ForkPoolWorker-2:Read 1529 bytes from https://www.linkedin.com/in/sagnik-biswas-7740981b6/\n",
            "ForkPoolWorker-1:Read 1529 bytes from https://www.linkedin.com/in/sagnik-biswas-7740981b6/\n",
            "ForkPoolWorker-2:Read 1474 bytes from https://github.com/sagnikbiswas\n",
            "ForkPoolWorker-1:Read 1474 bytes from https://github.com/sagnikbiswas\n",
            "ForkPoolWorker-2:Read 1529 bytes from https://www.linkedin.com/in/sagnik-biswas-7740981b6/\n",
            "ForkPoolWorker-1:Read 1529 bytes from https://www.linkedin.com/in/sagnik-biswas-7740981b6/\n",
            "ForkPoolWorker-2:Read 1474 bytes from https://github.com/sagnikbiswas\n",
            "ForkPoolWorker-1:Read 1474 bytes from https://github.com/sagnikbiswas\n",
            "ForkPoolWorker-1:Read 1529 bytes from https://www.linkedin.com/in/sagnik-biswas-7740981b6/\n",
            "ForkPoolWorker-1:Read 1474 bytes from https://github.com/sagnikbiswas\n",
            "ForkPoolWorker-2:Read 1529 bytes from https://www.linkedin.com/in/sagnik-biswas-7740981b6/\n",
            "ForkPoolWorker-2:Read 1474 bytes from https://github.com/sagnikbiswas\n",
            "ForkPoolWorker-1:Read 1529 bytes from https://www.linkedin.com/in/sagnik-biswas-7740981b6/\n",
            "ForkPoolWorker-1:Read 1474 bytes from https://github.com/sagnikbiswas\n",
            "ForkPoolWorker-2:Read 1529 bytes from https://www.linkedin.com/in/sagnik-biswas-7740981b6/\n",
            "ForkPoolWorker-1:Read 1529 bytes from https://www.linkedin.com/in/sagnik-biswas-7740981b6/\n",
            "ForkPoolWorker-2:Read 1474 bytes from https://github.com/sagnikbiswas\n",
            "Downloaded 200 pages in 5.679147243499756 seconds\n"
          ]
        }
      ]
    },
    {
      "cell_type": "markdown",
      "metadata": {
        "id": "toHBOoDJE1tk"
      },
      "source": [
        "#CPU Bound"
      ]
    },
    {
      "cell_type": "markdown",
      "metadata": {
        "id": "ftDw-kubIl-Z"
      },
      "source": [
        "Where programs spend most of the time doing computation rather than waiting for I/O."
      ]
    },
    {
      "cell_type": "markdown",
      "metadata": {
        "id": "NA_tnTrzE5P2"
      },
      "source": [
        "##Synchronous - Single CPU"
      ]
    },
    {
      "cell_type": "code",
      "metadata": {
        "colab": {
          "base_uri": "https://localhost:8080/"
        },
        "id": "cEdMmxx8E7_1",
        "outputId": "3d9a63ab-a081-4d29-db14-d669433b2a77"
      },
      "source": [
        "import time\n",
        "import multiprocessing\n",
        "\n",
        "\n",
        "def cpu_bound(number):\n",
        "    name = multiprocessing.current_process().name\n",
        "    print(f\"{name} is crunching numbers\")\n",
        "    return sum(i * i for i in range(number))\n",
        "\n",
        "\n",
        "def find_sums(numbers):\n",
        "    for number in numbers:\n",
        "        cpu_bound(number)\n",
        "\n",
        "\n",
        "if __name__ == \"__main__\":\n",
        "    numbers = [10_000_000 + x for x in range(20)]\n",
        "\n",
        "    start_time = time.time()\n",
        "    find_sums(numbers)\n",
        "    duration = time.time() - start_time\n",
        "    print(f\"Duration {duration} seconds\")\n"
      ],
      "execution_count": 7,
      "outputs": [
        {
          "output_type": "stream",
          "name": "stdout",
          "text": [
            "MainProcess is crunching numbers\n",
            "MainProcess is crunching numbers\n",
            "MainProcess is crunching numbers\n",
            "MainProcess is crunching numbers\n",
            "MainProcess is crunching numbers\n",
            "MainProcess is crunching numbers\n",
            "MainProcess is crunching numbers\n",
            "MainProcess is crunching numbers\n",
            "MainProcess is crunching numbers\n",
            "MainProcess is crunching numbers\n",
            "MainProcess is crunching numbers\n",
            "MainProcess is crunching numbers\n",
            "MainProcess is crunching numbers\n",
            "MainProcess is crunching numbers\n",
            "MainProcess is crunching numbers\n",
            "MainProcess is crunching numbers\n",
            "MainProcess is crunching numbers\n",
            "MainProcess is crunching numbers\n",
            "MainProcess is crunching numbers\n",
            "MainProcess is crunching numbers\n",
            "Duration 24.826056003570557 seconds\n"
          ]
        }
      ]
    },
    {
      "cell_type": "markdown",
      "metadata": {
        "id": "M3Ll3yopFWv-"
      },
      "source": [
        "##Multiprocessing"
      ]
    },
    {
      "cell_type": "markdown",
      "metadata": {
        "id": "k6hAYIdqJIZs"
      },
      "source": [
        "Where `multiprocessing` really shines is in CPU bound programs, because more CPUs or cores can do more number crunching. Here the tasks are done in a truly parallel manner.\n",
        "\n",
        "`async` and `threading` are counterproductive here since we are already using a single CPU to its maximum and there is no idle waiting where we can sneak in more amounts of computation with concurrency. So we incur the overhead without any actual benefit."
      ]
    },
    {
      "cell_type": "markdown",
      "metadata": {
        "id": "Zs7u2VI_KaJK"
      },
      "source": [
        "(Google Colab can not utilize multiprocessing for some reason,. Run in local machine to see speed up)"
      ]
    },
    {
      "cell_type": "code",
      "metadata": {
        "colab": {
          "base_uri": "https://localhost:8080/"
        },
        "id": "IVg12DYTFZHB",
        "outputId": "7d9ac998-3d5e-4381-9e3e-b6f93ae89506"
      },
      "source": [
        "import multiprocessing\n",
        "import time\n",
        "\n",
        "\n",
        "def cpu_bound(number):\n",
        "    name = multiprocessing.current_process().name\n",
        "    print(f\"{name} is crunching numbers\")\n",
        "    return sum(i * i for i in range(number))\n",
        "\n",
        "\n",
        "def find_sums(numbers):\n",
        "    with multiprocessing.Pool() as pool:\n",
        "        pool.map(cpu_bound, numbers)\n",
        "\n",
        "\n",
        "if __name__ == \"__main__\":\n",
        "    numbers = [10_000_000 + x for x in range(20)]\n",
        "\n",
        "    start_time = time.time()\n",
        "    find_sums(numbers)\n",
        "    duration = time.time() - start_time\n",
        "    print(f\"Duration {duration} seconds\")\n"
      ],
      "execution_count": 8,
      "outputs": [
        {
          "output_type": "stream",
          "name": "stdout",
          "text": [
            "ForkPoolWorker-3 is crunching numbers\n",
            "ForkPoolWorker-4 is crunching numbers\n",
            "ForkPoolWorker-4 is crunching numbers\n",
            "ForkPoolWorker-3 is crunching numbers\n",
            "ForkPoolWorker-4 is crunching numbers\n",
            "ForkPoolWorker-3 is crunching numbers\n",
            "ForkPoolWorker-4 is crunching numbers\n",
            "ForkPoolWorker-3 is crunching numbers\n",
            "ForkPoolWorker-4 is crunching numbers\n",
            "ForkPoolWorker-3 is crunching numbers\n",
            "ForkPoolWorker-4 is crunching numbers\n",
            "ForkPoolWorker-3 is crunching numbers\n",
            "ForkPoolWorker-4 is crunching numbers\n",
            "ForkPoolWorker-3 is crunching numbers\n",
            "ForkPoolWorker-4 is crunching numbers\n",
            "ForkPoolWorker-3 is crunching numbers\n",
            "ForkPoolWorker-4 is crunching numbers\n",
            "ForkPoolWorker-3 is crunching numbers\n",
            "ForkPoolWorker-4 is crunching numbers\n",
            "ForkPoolWorker-4 is crunching numbers\n",
            "Duration 25.99473738670349 seconds\n"
          ]
        }
      ]
    }
  ]
}